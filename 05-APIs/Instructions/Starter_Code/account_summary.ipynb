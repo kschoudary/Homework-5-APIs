{
 "cells": [
  {
   "cell_type": "markdown",
   "metadata": {},
   "source": [
    "# Budget Analysis\n",
    "\n",
    "---\n",
    "\n",
    "## Environment Setup"
   ]
  },
  {
   "cell_type": "code",
   "execution_count": 1,
   "metadata": {},
   "outputs": [],
   "source": [
    "# Initial Imports\n",
    "import os\n",
    "import plaid\n",
    "import requests\n",
    "import datetime\n",
    "import json\n",
    "import pandas as pd\n",
    "from dotenv import load_dotenv\n",
    "import matplotlib.pyplot as plt\n",
    "%matplotlib inline"
   ]
  },
  {
   "cell_type": "code",
   "execution_count": 2,
   "metadata": {},
   "outputs": [],
   "source": [
    "# Helper functions\n",
    "\n",
    "def pretty_print_response(response):\n",
    "    \"\"\"\n",
    "    This function formats a JSON file to pretty printing it in the screen.\n",
    "    \"\"\"\n",
    "    print(json.dumps(response, indent=4, sort_keys=True))"
   ]
  },
  {
   "cell_type": "code",
   "execution_count": 3,
   "metadata": {},
   "outputs": [
    {
     "data": {
      "text/plain": [
       "True"
      ]
     },
     "execution_count": 3,
     "metadata": {},
     "output_type": "execute_result"
    }
   ],
   "source": [
    "# Set environment variables from the .env file\n",
    "load_dotenv()"
   ]
  },
  {
   "cell_type": "code",
   "execution_count": 4,
   "metadata": {},
   "outputs": [],
   "source": [
    "# Extract API keys from environment variables\n",
    "PLAID_CLIENT_ID = os.getenv(\"PLAID_CLIENT_ID\")\n",
    "# PLAID_SECRET = os.getenv(\"PLAID_SECRET\")\n",
    "PLAID_SBX_SECRET_KEY = os.getenv(\"PLAID_SBX_SECRET_KEY\")\n",
    "PLAID_PUBLIC_KEY = os.getenv(\"PLAID_PUBLIC_KEY\")"
   ]
  },
  {
   "cell_type": "markdown",
   "metadata": {},
   "source": [
    "---\n",
    "\n",
    "## Plaid Access Token\n",
    "\n",
    "In this section, you will use the `plaid-python` API to generate the correct authentication tokens to access data in the free developer Sandbox. This mimics how you might connect to your own account or a customer account, but due to privacy issues, this homework will only require connecting to and analyzing the fake data from the developer sandbox that Plaid provides. \n",
    "\n",
    "Complete the following steps to generate an access token:\n",
    "\n",
    "1. Create a client to connect to plaid\n",
    "\n",
    "2. Use the client to generate a public token and request the following items: ['transactions', 'income', 'assets']\n",
    "\n",
    "3. Exchange the public token for an access token\n",
    "\n",
    "4. Test the access token by requesting and printing the available test accounts"
   ]
  },
  {
   "cell_type": "markdown",
   "metadata": {},
   "source": [
    "### 1. Create a client to connect to plaid"
   ]
  },
  {
   "cell_type": "code",
   "execution_count": 5,
   "metadata": {},
   "outputs": [],
   "source": [
    "# Create the client object\n",
    "client = plaid.Client(client_id=PLAID_CLIENT_ID, secret=PLAID_SBX_SECRET_KEY, public_key=PLAID_PUBLIC_KEY, environment='sandbox')"
   ]
  },
  {
   "cell_type": "code",
   "execution_count": 6,
   "metadata": {},
   "outputs": [],
   "source": [
    "# Set the institution id\n",
    "INSTITUTION_ID = \"ins_109508\""
   ]
  },
  {
   "cell_type": "markdown",
   "metadata": {},
   "source": [
    "### 2. Generate a public token"
   ]
  },
  {
   "cell_type": "code",
   "execution_count": 7,
   "metadata": {},
   "outputs": [
    {
     "data": {
      "text/plain": [
       "{'public_token': 'public-sandbox-e018b6eb-03a4-48b7-93f5-a17ae9be0c30',\n",
       " 'request_id': '5ZP9JWdY6xynTo9'}"
      ]
     },
     "execution_count": 7,
     "metadata": {},
     "output_type": "execute_result"
    }
   ],
   "source": [
    "# Create the public token\n",
    "create_tkn_response = client.Sandbox.public_token.create(INSTITUTION_ID, ['transactions','income','assets'])\n",
    "# Print the public token\n",
    "create_tkn_response"
   ]
  },
  {
   "cell_type": "markdown",
   "metadata": {},
   "source": [
    "### 3. Exchange the public token for an access token"
   ]
  },
  {
   "cell_type": "code",
   "execution_count": 8,
   "metadata": {},
   "outputs": [
    {
     "data": {
      "text/plain": [
       "{'access_token': 'access-sandbox-084b280e-c4fc-4210-bc77-c34c741bef0e',\n",
       " 'item_id': 'QDw7qPV8KvCnek676QyWfVpvRAW4zPupDoxbj',\n",
       " 'request_id': 'EEXHLN7B3090ft0'}"
      ]
     },
     "execution_count": 8,
     "metadata": {},
     "output_type": "execute_result"
    }
   ],
   "source": [
    "# Retrieve the access token\n",
    "exchange_response = client.Item.public_token.exchange(create_tkn_response['public_token'])\n",
    "# Print the access toke\n",
    "exchange_response"
   ]
  },
  {
   "cell_type": "code",
   "execution_count": 9,
   "metadata": {},
   "outputs": [],
   "source": [
    "# Store the access token in a Python variable\n",
    "access_token = exchange_response['access_token']"
   ]
  },
  {
   "cell_type": "markdown",
   "metadata": {},
   "source": [
    "### 4. Fetch Accounts"
   ]
  },
  {
   "cell_type": "code",
   "execution_count": 10,
   "metadata": {},
   "outputs": [
    {
     "data": {
      "text/plain": [
       "{'accounts': [{'account_id': '8Eevryw53ailwE5v5VaXFAzq8wprkrswqnpg9',\n",
       "   'balances': {'available': 100,\n",
       "    'current': 110,\n",
       "    'iso_currency_code': 'USD',\n",
       "    'limit': None,\n",
       "    'unofficial_currency_code': None},\n",
       "   'mask': '0000',\n",
       "   'name': 'Plaid Checking',\n",
       "   'official_name': 'Plaid Gold Standard 0% Interest Checking',\n",
       "   'subtype': 'checking',\n",
       "   'type': 'depository'},\n",
       "  {'account_id': 'EDGnQlNP1oCjkvMbMgpPHroxl5EJmJuXbyerG',\n",
       "   'balances': {'available': 200,\n",
       "    'current': 210,\n",
       "    'iso_currency_code': 'USD',\n",
       "    'limit': None,\n",
       "    'unofficial_currency_code': None},\n",
       "   'mask': '1111',\n",
       "   'name': 'Plaid Saving',\n",
       "   'official_name': 'Plaid Silver Standard 0.1% Interest Saving',\n",
       "   'subtype': 'savings',\n",
       "   'type': 'depository'},\n",
       "  {'account_id': 'WDvpxq8bdlCdk7mBmz3LS38MPNlEVETlgRyXg',\n",
       "   'balances': {'available': None,\n",
       "    'current': 1000,\n",
       "    'iso_currency_code': 'USD',\n",
       "    'limit': None,\n",
       "    'unofficial_currency_code': None},\n",
       "   'mask': '2222',\n",
       "   'name': 'Plaid CD',\n",
       "   'official_name': 'Plaid Bronze Standard 0.2% Interest CD',\n",
       "   'subtype': 'cd',\n",
       "   'type': 'depository'},\n",
       "  {'account_id': 'AE84PyQdeMiaKbMyMw8dC7DNXKVBlBU1z8Jad',\n",
       "   'balances': {'available': None,\n",
       "    'current': 410,\n",
       "    'iso_currency_code': 'USD',\n",
       "    'limit': 2000,\n",
       "    'unofficial_currency_code': None},\n",
       "   'mask': '3333',\n",
       "   'name': 'Plaid Credit Card',\n",
       "   'official_name': 'Plaid Diamond 12.5% APR Interest Credit Card',\n",
       "   'subtype': 'credit card',\n",
       "   'type': 'credit'},\n",
       "  {'account_id': 'GDvRMK37p8CeKwpXp6j7uP45GDvgMgC1kaxqX',\n",
       "   'balances': {'available': 43200,\n",
       "    'current': 43200,\n",
       "    'iso_currency_code': 'USD',\n",
       "    'limit': None,\n",
       "    'unofficial_currency_code': None},\n",
       "   'mask': '4444',\n",
       "   'name': 'Plaid Money Market',\n",
       "   'official_name': 'Plaid Platinum Standard 1.85% Interest Money Market',\n",
       "   'subtype': 'money market',\n",
       "   'type': 'depository'},\n",
       "  {'account_id': 'nnabrxpNKgibGE7P71VkTE1KXJgmemC6voVZw',\n",
       "   'balances': {'available': None,\n",
       "    'current': 320.76,\n",
       "    'iso_currency_code': 'USD',\n",
       "    'limit': None,\n",
       "    'unofficial_currency_code': None},\n",
       "   'mask': '5555',\n",
       "   'name': 'Plaid IRA',\n",
       "   'official_name': None,\n",
       "   'subtype': 'ira',\n",
       "   'type': 'investment'},\n",
       "  {'account_id': 'bWvwMP351Nc1GzJlJo6PFKRNo3JneniV8lKEZ',\n",
       "   'balances': {'available': None,\n",
       "    'current': 23631.9805,\n",
       "    'iso_currency_code': 'USD',\n",
       "    'limit': None,\n",
       "    'unofficial_currency_code': None},\n",
       "   'mask': '6666',\n",
       "   'name': 'Plaid 401k',\n",
       "   'official_name': None,\n",
       "   'subtype': '401k',\n",
       "   'type': 'investment'},\n",
       "  {'account_id': 'mndaK3L4qoibE7wNwL3zTNLMljx9m9CL6Ep9J',\n",
       "   'balances': {'available': None,\n",
       "    'current': 65262,\n",
       "    'iso_currency_code': 'USD',\n",
       "    'limit': None,\n",
       "    'unofficial_currency_code': None},\n",
       "   'mask': '7777',\n",
       "   'name': 'Plaid Student Loan',\n",
       "   'official_name': None,\n",
       "   'subtype': 'student',\n",
       "   'type': 'loan'}],\n",
       " 'item': {'available_products': ['auth',\n",
       "   'balance',\n",
       "   'credit_details',\n",
       "   'identity',\n",
       "   'investments',\n",
       "   'liabilities'],\n",
       "  'billed_products': ['assets', 'income', 'transactions'],\n",
       "  'consent_expiration_time': None,\n",
       "  'error': None,\n",
       "  'institution_id': 'ins_109508',\n",
       "  'item_id': 'QDw7qPV8KvCnek676QyWfVpvRAW4zPupDoxbj',\n",
       "  'webhook': ''},\n",
       " 'request_id': 'B9p6zumfVMZKRbx'}"
      ]
     },
     "execution_count": 10,
     "metadata": {},
     "output_type": "execute_result"
    }
   ],
   "source": [
    "# Retrieve accounts\n",
    "client.Accounts.get(access_token)\n",
    "# Print accounts"
   ]
  },
  {
   "cell_type": "markdown",
   "metadata": {},
   "source": [
    "---\n",
    "\n",
    "# Account Transactions with Plaid\n",
    "\n",
    "In this section, you will use the Plaid Python SDK to connect to the Developer Sandbox account and grab a list of transactions. You will need to complete the following steps:\n",
    "\n",
    "\n",
    "1. Use the access token to fetch the transactions for the last 90 days\n",
    "\n",
    "2. Print the categories for each transaction type\n",
    "\n",
    "3. Create a new DataFrame using the following fields from the JSON transaction data: `date, name, amount, category`. (For categories with more than one label, just use the first category label in the list)\n",
    "\n",
    "4. Convert the data types to the appropriate types (i.e. datetimeindex for the date and float for the amount)"
   ]
  },
  {
   "cell_type": "markdown",
   "metadata": {},
   "source": [
    "### 1. Fetch the Transactions for the last 90 days"
   ]
  },
  {
   "cell_type": "code",
   "execution_count": 11,
   "metadata": {},
   "outputs": [
    {
     "name": "stdout",
     "output_type": "stream",
     "text": [
      "[\n",
      "    {\n",
      "        \"account_id\": \"AE84PyQdeMiaKbMyMw8dC7DNXKVBlBU1z8Jad\",\n",
      "        \"account_owner\": null,\n",
      "        \"amount\": 500,\n",
      "        \"authorized_date\": null,\n",
      "        \"category\": [\n",
      "            \"Food and Drink\",\n",
      "            \"Restaurants\"\n",
      "        ],\n",
      "        \"category_id\": \"13005000\",\n",
      "        \"date\": \"2020-05-25\",\n",
      "        \"iso_currency_code\": \"USD\",\n",
      "        \"location\": {\n",
      "            \"address\": null,\n",
      "            \"city\": null,\n",
      "            \"country\": null,\n",
      "            \"lat\": null,\n",
      "            \"lon\": null,\n",
      "            \"postal_code\": null,\n",
      "            \"region\": null,\n",
      "            \"store_number\": null\n",
      "        },\n",
      "        \"name\": \"Tectra Inc\",\n",
      "        \"payment_channel\": \"in store\",\n",
      "        \"payment_meta\": {\n",
      "            \"by_order_of\": null,\n",
      "            \"payee\": null,\n",
      "            \"payer\": null,\n",
      "            \"payment_method\": null,\n",
      "            \"payment_processor\": null,\n",
      "            \"ppd_id\": null,\n",
      "            \"reason\": null,\n",
      "            \"reference_number\": null\n",
      "        },\n",
      "        \"pending\": false,\n",
      "        \"pending_transaction_id\": null,\n",
      "        \"transaction_code\": null,\n",
      "        \"transaction_id\": \"9EQ5zyVlx4iqNDmkm8pluLZjqqn9pQFRjryKA\",\n",
      "        \"transaction_type\": \"place\",\n",
      "        \"unofficial_currency_code\": null\n",
      "    },\n",
      "    {\n",
      "        \"account_id\": \"AE84PyQdeMiaKbMyMw8dC7DNXKVBlBU1z8Jad\",\n",
      "        \"account_owner\": null,\n",
      "        \"amount\": 2078.5,\n",
      "        \"authorized_date\": null,\n",
      "        \"category\": [\n",
      "            \"Payment\"\n",
      "        ],\n",
      "        \"category_id\": \"16000000\",\n",
      "        \"date\": \"2020-05-24\",\n",
      "        \"iso_currency_code\": \"USD\",\n",
      "        \"location\": {\n",
      "            \"address\": null,\n",
      "            \"city\": null,\n",
      "            \"country\": null,\n",
      "            \"lat\": null,\n",
      "            \"lon\": null,\n",
      "            \"postal_code\": null,\n",
      "            \"region\": null,\n",
      "            \"store_number\": null\n",
      "        },\n",
      "        \"name\": \"AUTOMATIC PAYMENT - THANK\",\n",
      "        \"payment_channel\": \"other\",\n",
      "        \"payment_meta\": {\n",
      "            \"by_order_of\": null,\n",
      "            \"payee\": null,\n",
      "            \"payer\": null,\n",
      "            \"payment_method\": null,\n",
      "            \"payment_processor\": null,\n",
      "            \"ppd_id\": null,\n",
      "            \"reason\": null,\n",
      "            \"reference_number\": null\n",
      "        },\n",
      "        \"pending\": false,\n",
      "        \"pending_transaction_id\": null,\n",
      "        \"transaction_code\": null,\n",
      "        \"transaction_id\": \"6EjLqymVzxi8B4zezJv5HWyLkkgBw3cg46Kzp\",\n",
      "        \"transaction_type\": \"special\",\n",
      "        \"unofficial_currency_code\": null\n",
      "    }\n",
      "]\n"
     ]
    }
   ],
   "source": [
    "# Set the start and end date 90 days from today\n",
    "start_date = '{:%Y-%m-%d}'.format(datetime.datetime.now() + datetime.timedelta(-90))\n",
    "end_date = '{:%Y-%m-%d}'.format(datetime.datetime.now())\n",
    "# Retrieve the transactions for the last 90 days\n",
    "transactions_response = client.Transactions.get(access_token,start_date,end_date)\n",
    "# Print the transactions\n",
    "print(json.dumps(transactions_response['transactions'][:2],indent=4, sort_keys=True))"
   ]
  },
  {
   "cell_type": "markdown",
   "metadata": {},
   "source": [
    "### 2. Print the categories for each transaction"
   ]
  },
  {
   "cell_type": "code",
   "execution_count": 12,
   "metadata": {},
   "outputs": [
    {
     "data": {
      "text/html": [
       "<div>\n",
       "<style scoped>\n",
       "    .dataframe tbody tr th:only-of-type {\n",
       "        vertical-align: middle;\n",
       "    }\n",
       "\n",
       "    .dataframe tbody tr th {\n",
       "        vertical-align: top;\n",
       "    }\n",
       "\n",
       "    .dataframe thead th {\n",
       "        text-align: right;\n",
       "    }\n",
       "</style>\n",
       "<table border=\"1\" class=\"dataframe\">\n",
       "  <thead>\n",
       "    <tr style=\"text-align: right;\">\n",
       "      <th></th>\n",
       "      <th>category</th>\n",
       "    </tr>\n",
       "  </thead>\n",
       "  <tbody>\n",
       "    <tr>\n",
       "      <th>0</th>\n",
       "      <td>Food and Drink</td>\n",
       "    </tr>\n",
       "    <tr>\n",
       "      <th>1</th>\n",
       "      <td>Payment</td>\n",
       "    </tr>\n",
       "    <tr>\n",
       "      <th>2</th>\n",
       "      <td>Food and Drink</td>\n",
       "    </tr>\n",
       "    <tr>\n",
       "      <th>3</th>\n",
       "      <td>Shops</td>\n",
       "    </tr>\n",
       "    <tr>\n",
       "      <th>4</th>\n",
       "      <td>Payment</td>\n",
       "    </tr>\n",
       "    <tr>\n",
       "      <th>5</th>\n",
       "      <td>Travel</td>\n",
       "    </tr>\n",
       "    <tr>\n",
       "      <th>6</th>\n",
       "      <td>Transfer</td>\n",
       "    </tr>\n",
       "    <tr>\n",
       "      <th>7</th>\n",
       "      <td>Transfer</td>\n",
       "    </tr>\n",
       "    <tr>\n",
       "      <th>8</th>\n",
       "      <td>Recreation</td>\n",
       "    </tr>\n",
       "    <tr>\n",
       "      <th>9</th>\n",
       "      <td>Travel</td>\n",
       "    </tr>\n",
       "    <tr>\n",
       "      <th>10</th>\n",
       "      <td>Food and Drink</td>\n",
       "    </tr>\n",
       "    <tr>\n",
       "      <th>11</th>\n",
       "      <td>Food and Drink</td>\n",
       "    </tr>\n",
       "    <tr>\n",
       "      <th>12</th>\n",
       "      <td>Food and Drink</td>\n",
       "    </tr>\n",
       "    <tr>\n",
       "      <th>13</th>\n",
       "      <td>Transfer</td>\n",
       "    </tr>\n",
       "    <tr>\n",
       "      <th>14</th>\n",
       "      <td>Travel</td>\n",
       "    </tr>\n",
       "    <tr>\n",
       "      <th>15</th>\n",
       "      <td>Travel</td>\n",
       "    </tr>\n",
       "    <tr>\n",
       "      <th>16</th>\n",
       "      <td>Food and Drink</td>\n",
       "    </tr>\n",
       "    <tr>\n",
       "      <th>17</th>\n",
       "      <td>Payment</td>\n",
       "    </tr>\n",
       "    <tr>\n",
       "      <th>18</th>\n",
       "      <td>Food and Drink</td>\n",
       "    </tr>\n",
       "    <tr>\n",
       "      <th>19</th>\n",
       "      <td>Shops</td>\n",
       "    </tr>\n",
       "    <tr>\n",
       "      <th>20</th>\n",
       "      <td>Payment</td>\n",
       "    </tr>\n",
       "    <tr>\n",
       "      <th>21</th>\n",
       "      <td>Travel</td>\n",
       "    </tr>\n",
       "    <tr>\n",
       "      <th>22</th>\n",
       "      <td>Transfer</td>\n",
       "    </tr>\n",
       "    <tr>\n",
       "      <th>23</th>\n",
       "      <td>Transfer</td>\n",
       "    </tr>\n",
       "    <tr>\n",
       "      <th>24</th>\n",
       "      <td>Recreation</td>\n",
       "    </tr>\n",
       "    <tr>\n",
       "      <th>25</th>\n",
       "      <td>Travel</td>\n",
       "    </tr>\n",
       "    <tr>\n",
       "      <th>26</th>\n",
       "      <td>Food and Drink</td>\n",
       "    </tr>\n",
       "    <tr>\n",
       "      <th>27</th>\n",
       "      <td>Food and Drink</td>\n",
       "    </tr>\n",
       "    <tr>\n",
       "      <th>28</th>\n",
       "      <td>Food and Drink</td>\n",
       "    </tr>\n",
       "    <tr>\n",
       "      <th>29</th>\n",
       "      <td>Transfer</td>\n",
       "    </tr>\n",
       "    <tr>\n",
       "      <th>30</th>\n",
       "      <td>Travel</td>\n",
       "    </tr>\n",
       "    <tr>\n",
       "      <th>31</th>\n",
       "      <td>Travel</td>\n",
       "    </tr>\n",
       "    <tr>\n",
       "      <th>32</th>\n",
       "      <td>Food and Drink</td>\n",
       "    </tr>\n",
       "    <tr>\n",
       "      <th>33</th>\n",
       "      <td>Payment</td>\n",
       "    </tr>\n",
       "    <tr>\n",
       "      <th>34</th>\n",
       "      <td>Food and Drink</td>\n",
       "    </tr>\n",
       "    <tr>\n",
       "      <th>35</th>\n",
       "      <td>Shops</td>\n",
       "    </tr>\n",
       "    <tr>\n",
       "      <th>36</th>\n",
       "      <td>Payment</td>\n",
       "    </tr>\n",
       "    <tr>\n",
       "      <th>37</th>\n",
       "      <td>Travel</td>\n",
       "    </tr>\n",
       "    <tr>\n",
       "      <th>38</th>\n",
       "      <td>Transfer</td>\n",
       "    </tr>\n",
       "    <tr>\n",
       "      <th>39</th>\n",
       "      <td>Transfer</td>\n",
       "    </tr>\n",
       "    <tr>\n",
       "      <th>40</th>\n",
       "      <td>Recreation</td>\n",
       "    </tr>\n",
       "    <tr>\n",
       "      <th>41</th>\n",
       "      <td>Travel</td>\n",
       "    </tr>\n",
       "    <tr>\n",
       "      <th>42</th>\n",
       "      <td>Food and Drink</td>\n",
       "    </tr>\n",
       "    <tr>\n",
       "      <th>43</th>\n",
       "      <td>Food and Drink</td>\n",
       "    </tr>\n",
       "    <tr>\n",
       "      <th>44</th>\n",
       "      <td>Food and Drink</td>\n",
       "    </tr>\n",
       "    <tr>\n",
       "      <th>45</th>\n",
       "      <td>Transfer</td>\n",
       "    </tr>\n",
       "    <tr>\n",
       "      <th>46</th>\n",
       "      <td>Travel</td>\n",
       "    </tr>\n",
       "    <tr>\n",
       "      <th>47</th>\n",
       "      <td>Travel</td>\n",
       "    </tr>\n",
       "    <tr>\n",
       "      <th>48</th>\n",
       "      <td>Food and Drink</td>\n",
       "    </tr>\n",
       "  </tbody>\n",
       "</table>\n",
       "</div>"
      ],
      "text/plain": [
       "          category\n",
       "0   Food and Drink\n",
       "1          Payment\n",
       "2   Food and Drink\n",
       "3            Shops\n",
       "4          Payment\n",
       "5           Travel\n",
       "6         Transfer\n",
       "7         Transfer\n",
       "8       Recreation\n",
       "9           Travel\n",
       "10  Food and Drink\n",
       "11  Food and Drink\n",
       "12  Food and Drink\n",
       "13        Transfer\n",
       "14          Travel\n",
       "15          Travel\n",
       "16  Food and Drink\n",
       "17         Payment\n",
       "18  Food and Drink\n",
       "19           Shops\n",
       "20         Payment\n",
       "21          Travel\n",
       "22        Transfer\n",
       "23        Transfer\n",
       "24      Recreation\n",
       "25          Travel\n",
       "26  Food and Drink\n",
       "27  Food and Drink\n",
       "28  Food and Drink\n",
       "29        Transfer\n",
       "30          Travel\n",
       "31          Travel\n",
       "32  Food and Drink\n",
       "33         Payment\n",
       "34  Food and Drink\n",
       "35           Shops\n",
       "36         Payment\n",
       "37          Travel\n",
       "38        Transfer\n",
       "39        Transfer\n",
       "40      Recreation\n",
       "41          Travel\n",
       "42  Food and Drink\n",
       "43  Food and Drink\n",
       "44  Food and Drink\n",
       "45        Transfer\n",
       "46          Travel\n",
       "47          Travel\n",
       "48  Food and Drink"
      ]
     },
     "execution_count": 12,
     "metadata": {},
     "output_type": "execute_result"
    }
   ],
   "source": [
    "# Create a for-loop to print the categories for each transaction\n",
    "transaction_df = pd.DataFrame(columns=['category'])\n",
    "transactions = transactions_response['transactions']\n",
    "for index, transaction in enumerate(transactions):\n",
    "    transaction_df.loc[index] = [transaction[\"category\"][0]]\n",
    "transaction_df\n"
   ]
  },
  {
   "cell_type": "markdown",
   "metadata": {},
   "source": [
    "### 3. Create a new DataFrame using the following fields from the JSON transaction data: `date`, `name`, `amount`, `category`. \n",
    "\n",
    "(For categories with more than one label, just use the first category label in the list)"
   ]
  },
  {
   "cell_type": "code",
   "execution_count": 13,
   "metadata": {},
   "outputs": [
    {
     "data": {
      "text/html": [
       "<div>\n",
       "<style scoped>\n",
       "    .dataframe tbody tr th:only-of-type {\n",
       "        vertical-align: middle;\n",
       "    }\n",
       "\n",
       "    .dataframe tbody tr th {\n",
       "        vertical-align: top;\n",
       "    }\n",
       "\n",
       "    .dataframe thead th {\n",
       "        text-align: right;\n",
       "    }\n",
       "</style>\n",
       "<table border=\"1\" class=\"dataframe\">\n",
       "  <thead>\n",
       "    <tr style=\"text-align: right;\">\n",
       "      <th></th>\n",
       "      <th>date</th>\n",
       "      <th>name</th>\n",
       "      <th>amount</th>\n",
       "      <th>category</th>\n",
       "    </tr>\n",
       "  </thead>\n",
       "  <tbody>\n",
       "    <tr>\n",
       "      <th>0</th>\n",
       "      <td>2020-05-25</td>\n",
       "      <td>Tectra Inc</td>\n",
       "      <td>500</td>\n",
       "      <td>Food and Drink</td>\n",
       "    </tr>\n",
       "    <tr>\n",
       "      <th>1</th>\n",
       "      <td>2020-05-24</td>\n",
       "      <td>AUTOMATIC PAYMENT - THANK</td>\n",
       "      <td>2078.5</td>\n",
       "      <td>Payment</td>\n",
       "    </tr>\n",
       "    <tr>\n",
       "      <th>2</th>\n",
       "      <td>2020-05-24</td>\n",
       "      <td>KFC</td>\n",
       "      <td>500</td>\n",
       "      <td>Food and Drink</td>\n",
       "    </tr>\n",
       "    <tr>\n",
       "      <th>3</th>\n",
       "      <td>2020-05-24</td>\n",
       "      <td>Madison Bicycle Shop</td>\n",
       "      <td>500</td>\n",
       "      <td>Shops</td>\n",
       "    </tr>\n",
       "    <tr>\n",
       "      <th>4</th>\n",
       "      <td>2020-05-15</td>\n",
       "      <td>CREDIT CARD 3333 PAYMENT *//</td>\n",
       "      <td>25</td>\n",
       "      <td>Payment</td>\n",
       "    </tr>\n",
       "  </tbody>\n",
       "</table>\n",
       "</div>"
      ],
      "text/plain": [
       "         date                          name  amount        category\n",
       "0  2020-05-25                    Tectra Inc     500  Food and Drink\n",
       "1  2020-05-24     AUTOMATIC PAYMENT - THANK  2078.5         Payment\n",
       "2  2020-05-24                           KFC     500  Food and Drink\n",
       "3  2020-05-24          Madison Bicycle Shop     500           Shops\n",
       "4  2020-05-15  CREDIT CARD 3333 PAYMENT *//      25         Payment"
      ]
     },
     "execution_count": 13,
     "metadata": {},
     "output_type": "execute_result"
    }
   ],
   "source": [
    "# Define an empty DataFrame and set the columns as date, name, amount, and category\n",
    "transaction_df = pd.DataFrame(columns=['date', 'name', 'amount', 'category'])\n",
    "# Retrieve all the transactions\n",
    "transactions = transactions_response['transactions']\n",
    "# Populate the transactions DataFrame with the transactions data\n",
    "for index, transaction in enumerate(transactions):\n",
    "    transaction_df.loc[index] = [transaction[\"date\"], transaction[\"name\"], transaction[\"amount\"], transaction[\"category\"][0]]\n",
    "# Display sample data from the DataFrame    \n",
    "transaction_df.head()"
   ]
  },
  {
   "cell_type": "markdown",
   "metadata": {},
   "source": [
    "### 4. Convert the data types to the appropriate types \n",
    "\n",
    "(i.e. datetimeindex for the date and float for the amount)"
   ]
  },
  {
   "cell_type": "code",
   "execution_count": 14,
   "metadata": {},
   "outputs": [
    {
     "data": {
      "text/plain": [
       "date        object\n",
       "name        object\n",
       "amount      object\n",
       "category    object\n",
       "dtype: object"
      ]
     },
     "execution_count": 14,
     "metadata": {},
     "output_type": "execute_result"
    }
   ],
   "source": [
    "# Display data types\n",
    "# Use the `dtypes` attribute to list the column data types\n",
    "transaction_df.dtypes"
   ]
  },
  {
   "cell_type": "code",
   "execution_count": 15,
   "metadata": {},
   "outputs": [
    {
     "data": {
      "text/plain": [
       "date        datetime64[ns]\n",
       "name                object\n",
       "amount             float64\n",
       "category            object\n",
       "dtype: object"
      ]
     },
     "execution_count": 15,
     "metadata": {},
     "output_type": "execute_result"
    }
   ],
   "source": [
    "# Make any required data type transformation\n",
    "# Convert column 'amount' to Float\n",
    "transaction_df['amount'] = transaction_df['amount'].astype('float')\n",
    "# Convert column 'date' to date format\n",
    "transaction_df['date'] = pd.to_datetime(transaction_df['date'])\n",
    "# transaction_df['date'].(parse_dates=True, infer_datetime_format=True)\n",
    "transaction_df.dtypes"
   ]
  },
  {
   "cell_type": "code",
   "execution_count": 16,
   "metadata": {},
   "outputs": [
    {
     "data": {
      "text/html": [
       "<div>\n",
       "<style scoped>\n",
       "    .dataframe tbody tr th:only-of-type {\n",
       "        vertical-align: middle;\n",
       "    }\n",
       "\n",
       "    .dataframe tbody tr th {\n",
       "        vertical-align: top;\n",
       "    }\n",
       "\n",
       "    .dataframe thead th {\n",
       "        text-align: right;\n",
       "    }\n",
       "</style>\n",
       "<table border=\"1\" class=\"dataframe\">\n",
       "  <thead>\n",
       "    <tr style=\"text-align: right;\">\n",
       "      <th></th>\n",
       "      <th>name</th>\n",
       "      <th>amount</th>\n",
       "      <th>category</th>\n",
       "    </tr>\n",
       "    <tr>\n",
       "      <th>date</th>\n",
       "      <th></th>\n",
       "      <th></th>\n",
       "      <th></th>\n",
       "    </tr>\n",
       "  </thead>\n",
       "  <tbody>\n",
       "    <tr>\n",
       "      <th>2020-05-25</th>\n",
       "      <td>Tectra Inc</td>\n",
       "      <td>500.0</td>\n",
       "      <td>Food and Drink</td>\n",
       "    </tr>\n",
       "    <tr>\n",
       "      <th>2020-05-24</th>\n",
       "      <td>AUTOMATIC PAYMENT - THANK</td>\n",
       "      <td>2078.5</td>\n",
       "      <td>Payment</td>\n",
       "    </tr>\n",
       "    <tr>\n",
       "      <th>2020-05-24</th>\n",
       "      <td>KFC</td>\n",
       "      <td>500.0</td>\n",
       "      <td>Food and Drink</td>\n",
       "    </tr>\n",
       "    <tr>\n",
       "      <th>2020-05-24</th>\n",
       "      <td>Madison Bicycle Shop</td>\n",
       "      <td>500.0</td>\n",
       "      <td>Shops</td>\n",
       "    </tr>\n",
       "    <tr>\n",
       "      <th>2020-05-15</th>\n",
       "      <td>CREDIT CARD 3333 PAYMENT *//</td>\n",
       "      <td>25.0</td>\n",
       "      <td>Payment</td>\n",
       "    </tr>\n",
       "  </tbody>\n",
       "</table>\n",
       "</div>"
      ],
      "text/plain": [
       "                                    name  amount        category\n",
       "date                                                            \n",
       "2020-05-25                    Tectra Inc   500.0  Food and Drink\n",
       "2020-05-24     AUTOMATIC PAYMENT - THANK  2078.5         Payment\n",
       "2020-05-24                           KFC   500.0  Food and Drink\n",
       "2020-05-24          Madison Bicycle Shop   500.0           Shops\n",
       "2020-05-15  CREDIT CARD 3333 PAYMENT *//    25.0         Payment"
      ]
     },
     "execution_count": 16,
     "metadata": {},
     "output_type": "execute_result"
    }
   ],
   "source": [
    "# Set the date column as index\n",
    "transaction_date_df = transaction_df\n",
    "transaction_date_df = transaction_date_df.set_index('date')\n",
    "# Display sample data\n",
    "transaction_date_df.head()"
   ]
  },
  {
   "cell_type": "markdown",
   "metadata": {},
   "source": [
    "---"
   ]
  },
  {
   "cell_type": "markdown",
   "metadata": {},
   "source": [
    "# Income Analysis with Plaid\n",
    "\n",
    "In this section, you will use the Plaid Sandbox to complete the following:\n",
    "\n",
    "1. Determine the previous year's gross income and print the results\n",
    "\n",
    "2. Determine the current monthly income and print the results\n",
    "\n",
    "3. Determine the projected yearly income and print the results"
   ]
  },
  {
   "cell_type": "code",
   "execution_count": 17,
   "metadata": {},
   "outputs": [
    {
     "data": {
      "text/plain": [
       "{'income': {'income_streams': [{'confidence': 0.99,\n",
       "    'days': 690,\n",
       "    'monthly_income': 500,\n",
       "    'name': 'UNITED AIRLINES'}],\n",
       "  'last_year_income': 6000,\n",
       "  'last_year_income_before_tax': 7285,\n",
       "  'max_number_of_overlapping_income_streams': 1,\n",
       "  'number_of_income_streams': 1,\n",
       "  'projected_yearly_income': 6085,\n",
       "  'projected_yearly_income_before_tax': 7389},\n",
       " 'request_id': 'bfPCjGRorVBiMEV'}"
      ]
     },
     "execution_count": 17,
     "metadata": {},
     "output_type": "execute_result"
    }
   ],
   "source": [
    "# Fetch de income data\n",
    "income_response = client.Income.get(access_token)\n",
    "# Print the income data\n",
    "income_response"
   ]
  },
  {
   "cell_type": "code",
   "execution_count": 18,
   "metadata": {},
   "outputs": [
    {
     "name": "stdout",
     "output_type": "stream",
     "text": [
      "7285\n"
     ]
    }
   ],
   "source": [
    "# Determine the previous year's gross income and print the results\n",
    "print(income_response['income']['last_year_income_before_tax'])"
   ]
  },
  {
   "cell_type": "code",
   "execution_count": 19,
   "metadata": {},
   "outputs": [
    {
     "name": "stdout",
     "output_type": "stream",
     "text": [
      "500\n"
     ]
    }
   ],
   "source": [
    "# Determine the current monthly income and print the results\n",
    "print(income_response['income']['income_streams'][0]['monthly_income'])"
   ]
  },
  {
   "cell_type": "code",
   "execution_count": 20,
   "metadata": {},
   "outputs": [
    {
     "name": "stdout",
     "output_type": "stream",
     "text": [
      "6085\n"
     ]
    }
   ],
   "source": [
    "# Determine the projected yearly income and print the results\n",
    "print(income_response['income']['projected_yearly_income'])"
   ]
  },
  {
   "cell_type": "markdown",
   "metadata": {},
   "source": [
    "---"
   ]
  },
  {
   "cell_type": "markdown",
   "metadata": {},
   "source": [
    "# Budget Analysis\n",
    "In this section, you will use the transactions DataFrame to analyze the customer's budget\n",
    "\n",
    "1. Calculate the total spending per category and print the results (Hint: groupby or count transactions per category)\n",
    "\n",
    "2. Generate a bar chart with the number of transactions for each category\n",
    "\n",
    "3. Calulate the expenses per month\n",
    "\n",
    "4. Plot the total expenses per month"
   ]
  },
  {
   "cell_type": "markdown",
   "metadata": {},
   "source": [
    "### Calculate the expenses per category"
   ]
  },
  {
   "cell_type": "code",
   "execution_count": 21,
   "metadata": {},
   "outputs": [
    {
     "data": {
      "text/html": [
       "<div>\n",
       "<style scoped>\n",
       "    .dataframe tbody tr th:only-of-type {\n",
       "        vertical-align: middle;\n",
       "    }\n",
       "\n",
       "    .dataframe tbody tr th {\n",
       "        vertical-align: top;\n",
       "    }\n",
       "\n",
       "    .dataframe thead th {\n",
       "        text-align: right;\n",
       "    }\n",
       "</style>\n",
       "<table border=\"1\" class=\"dataframe\">\n",
       "  <thead>\n",
       "    <tr style=\"text-align: right;\">\n",
       "      <th></th>\n",
       "      <th>amount</th>\n",
       "    </tr>\n",
       "    <tr>\n",
       "      <th>category</th>\n",
       "      <th></th>\n",
       "    </tr>\n",
       "  </thead>\n",
       "  <tbody>\n",
       "    <tr>\n",
       "      <th>Food and Drink</th>\n",
       "      <td>3817.19</td>\n",
       "    </tr>\n",
       "    <tr>\n",
       "      <th>Payment</th>\n",
       "      <td>6310.50</td>\n",
       "    </tr>\n",
       "    <tr>\n",
       "      <th>Recreation</th>\n",
       "      <td>235.50</td>\n",
       "    </tr>\n",
       "    <tr>\n",
       "      <th>Shops</th>\n",
       "      <td>1500.00</td>\n",
       "    </tr>\n",
       "    <tr>\n",
       "      <th>Transfer</th>\n",
       "      <td>20537.34</td>\n",
       "    </tr>\n",
       "    <tr>\n",
       "      <th>Travel</th>\n",
       "      <td>35.19</td>\n",
       "    </tr>\n",
       "  </tbody>\n",
       "</table>\n",
       "</div>"
      ],
      "text/plain": [
       "                  amount\n",
       "category                \n",
       "Food and Drink   3817.19\n",
       "Payment          6310.50\n",
       "Recreation        235.50\n",
       "Shops            1500.00\n",
       "Transfer        20537.34\n",
       "Travel             35.19"
      ]
     },
     "execution_count": 21,
     "metadata": {},
     "output_type": "execute_result"
    }
   ],
   "source": [
    "# Compute the total expenses per category\n",
    "expenses_df = transaction_df.groupby('category').sum()\n",
    "# Display the expenses per catefory\n",
    "expenses_df"
   ]
  },
  {
   "cell_type": "code",
   "execution_count": 22,
   "metadata": {},
   "outputs": [
    {
     "data": {
      "text/plain": [
       "array([<matplotlib.axes._subplots.AxesSubplot object at 0x000001E405071C88>],\n",
       "      dtype=object)"
      ]
     },
     "execution_count": 22,
     "metadata": {},
     "output_type": "execute_result"
    },
    {
     "data": {
      "image/png": "[encoded data removed]",
      "text/plain": [
       "<Figure size 720x720 with 1 Axes>"
      ]
     },
     "metadata": {},
     "output_type": "display_data"
    }
   ],
   "source": [
    "# Create a spending categories pie chart.\n",
    "expenses_df.plot(kind='pie', figsize=(10,10), title='Spending by Category', subplots=True, legend=False)"
   ]
  },
  {
   "cell_type": "markdown",
   "metadata": {},
   "source": [
    "### Calculate the expenses per month"
   ]
  },
  {
   "cell_type": "code",
   "execution_count": 23,
   "metadata": {},
   "outputs": [
    {
     "data": {
      "text/html": [
       "<div>\n",
       "<style scoped>\n",
       "    .dataframe tbody tr th:only-of-type {\n",
       "        vertical-align: middle;\n",
       "    }\n",
       "\n",
       "    .dataframe tbody tr th {\n",
       "        vertical-align: top;\n",
       "    }\n",
       "\n",
       "    .dataframe thead th {\n",
       "        text-align: right;\n",
       "    }\n",
       "</style>\n",
       "<table border=\"1\" class=\"dataframe\">\n",
       "  <thead>\n",
       "    <tr style=\"text-align: right;\">\n",
       "      <th></th>\n",
       "      <th>amount</th>\n",
       "    </tr>\n",
       "    <tr>\n",
       "      <th>name</th>\n",
       "      <th></th>\n",
       "    </tr>\n",
       "  </thead>\n",
       "  <tbody>\n",
       "    <tr>\n",
       "      <th>ACH Electronic CreditGUSTO PAY 123456</th>\n",
       "      <td>17550.00</td>\n",
       "    </tr>\n",
       "    <tr>\n",
       "      <th>AUTOMATIC PAYMENT - THANK</th>\n",
       "      <td>6235.50</td>\n",
       "    </tr>\n",
       "    <tr>\n",
       "      <th>CD DEPOSIT .INITIAL.</th>\n",
       "      <td>3000.00</td>\n",
       "    </tr>\n",
       "    <tr>\n",
       "      <th>CREDIT CARD 3333 PAYMENT *//</th>\n",
       "      <td>75.00</td>\n",
       "    </tr>\n",
       "    <tr>\n",
       "      <th>INTRST PYMNT</th>\n",
       "      <td>-12.66</td>\n",
       "    </tr>\n",
       "    <tr>\n",
       "      <th>KFC</th>\n",
       "      <td>1500.00</td>\n",
       "    </tr>\n",
       "    <tr>\n",
       "      <th>Madison Bicycle Shop</th>\n",
       "      <td>1500.00</td>\n",
       "    </tr>\n",
       "    <tr>\n",
       "      <th>McDonald's</th>\n",
       "      <td>36.00</td>\n",
       "    </tr>\n",
       "    <tr>\n",
       "      <th>SparkFun</th>\n",
       "      <td>268.20</td>\n",
       "    </tr>\n",
       "    <tr>\n",
       "      <th>Starbucks</th>\n",
       "      <td>12.99</td>\n",
       "    </tr>\n",
       "    <tr>\n",
       "      <th>Tectra Inc</th>\n",
       "      <td>2000.00</td>\n",
       "    </tr>\n",
       "    <tr>\n",
       "      <th>Touchstone Climbing</th>\n",
       "      <td>235.50</td>\n",
       "    </tr>\n",
       "    <tr>\n",
       "      <th>Uber</th>\n",
       "      <td>35.19</td>\n",
       "    </tr>\n",
       "    <tr>\n",
       "      <th>United Airlines</th>\n",
       "      <td>0.00</td>\n",
       "    </tr>\n",
       "  </tbody>\n",
       "</table>\n",
       "</div>"
      ],
      "text/plain": [
       "                                         amount\n",
       "name                                           \n",
       "ACH Electronic CreditGUSTO PAY 123456  17550.00\n",
       "AUTOMATIC PAYMENT - THANK               6235.50\n",
       "CD DEPOSIT .INITIAL.                    3000.00\n",
       "CREDIT CARD 3333 PAYMENT *//              75.00\n",
       "INTRST PYMNT                             -12.66\n",
       "KFC                                     1500.00\n",
       "Madison Bicycle Shop                    1500.00\n",
       "McDonald's                                36.00\n",
       "SparkFun                                 268.20\n",
       "Starbucks                                 12.99\n",
       "Tectra Inc                              2000.00\n",
       "Touchstone Climbing                      235.50\n",
       "Uber                                      35.19\n",
       "United Airlines                            0.00"
      ]
     },
     "execution_count": 23,
     "metadata": {},
     "output_type": "execute_result"
    }
   ],
   "source": [
    "# Create a DataFrame with the total expenses\n",
    "expenses_df = transaction_df.groupby('name').sum()\n",
    "# Display sample data\n",
    "expenses_df"
   ]
  },
  {
   "cell_type": "code",
   "execution_count": 24,
   "metadata": {},
   "outputs": [
    {
     "data": {
      "text/plain": [
       "<matplotlib.axes._subplots.AxesSubplot at 0x1e4057c2a08>"
      ]
     },
     "execution_count": 24,
     "metadata": {},
     "output_type": "execute_result"
    },
    {
     "data": {
      "image/png": "[encoded data removed]",
      "text/plain": [
       "<Figure size 720x720 with 1 Axes>"
      ]
     },
     "metadata": {
      "needs_background": "light"
     },
     "output_type": "display_data"
    }
   ],
   "source": [
    "# Create a spending per month bar chart\n",
    "monthly_spending_df = transaction_df\n",
    "monthly_spending_df['date'] = monthly_spending_df['date'].dt.strftime('%Y-%m')\n",
    "monthly_spending_df = monthly_spending_df.groupby('date').sum()\n",
    "monthly_spending_df.plot(kind='bar', figsize=(10,10), title='Spending per month')\n"
   ]
  },
  {
   "cell_type": "code",
   "execution_count": null,
   "metadata": {},
   "outputs": [],
   "source": []
  },
  {
   "cell_type": "code",
   "execution_count": null,
   "metadata": {},
   "outputs": [],
   "source": []
  }
 ],
 "metadata": {
  "kernelspec": {
   "display_name": "Python 3",
   "language": "python",
   "name": "python3"
  },
  "language_info": {
   "codemirror_mode": {
    "name": "ipython",
    "version": 3
   },
   "file_extension": ".py",
   "mimetype": "text/x-python",
   "name": "python",
   "nbconvert_exporter": "python",
   "pygments_lexer": "ipython3",
   "version": "3.7.6"
  }
 },
 "nbformat": 4,
 "nbformat_minor": 4
}
